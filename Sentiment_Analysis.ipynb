{
 "cells": [
  {
   "cell_type": "markdown",
   "metadata": {},
   "source": [
    "## Section Two - Sentiment Analysis\n"
   ]
  },
  {
   "cell_type": "markdown",
   "metadata": {},
   "source": [
    "### <div class=\"alert alert-info\"></div>\n",
    "* Split the data into training and testing part using the `train_test_split` function so that the training set size is 67% of the whole data (set argument `random_state=80493` to make the result deterministic, and make sure the data is split in a stratified fashion)\n",
    "\n",
    "* Please use two feature extraction methods - __HashingVectorizer__ and __TfidfVectorizer__ from sklearn.feature_extraction.text\n",
    "\n",
    "* Please use two classification algorithms - Perceptron should be included.\n",
    "\n",
    "* Report and interpret the results (accuracy score) on test set. You should report four results"
   ]
  },
  {
   "cell_type": "code",
   "execution_count": 1,
   "metadata": {},
   "outputs": [
    {
     "name": "stdout",
     "output_type": "stream",
     "text": [
      "Accuracy of Perceptron with HashingVectorizer: 0.8742\n",
      "Accuracy of Perceptron with TfidfVectorizer: 0.8776\n",
      "Accuracy of SGDClassifier with HashingVectorizer: 0.8667\n",
      "Accuracy of SGDClassifier with TfidfVectorizer: 0.8997\n"
     ]
    }
   ],
   "source": [
    "import pandas as pd\n",
    "from sklearn.model_selection import train_test_split\n",
    "from sklearn.feature_extraction.text import HashingVectorizer, TfidfVectorizer\n",
    "from sklearn.linear_model import Perceptron, SGDClassifier\n",
    "from sklearn.metrics import accuracy_score\n",
    "\n",
    "# Loading the dataset\n",
    "file_path = 'IMDB Dataset.csv'\n",
    "data = pd.read_csv(file_path)\n",
    "\n",
    "# Spliting the data\n",
    "X = data['review']\n",
    "y = data['sentiment']\n",
    "X_train, X_test, y_train, y_test = train_test_split(X, y, test_size=0.33, random_state=80493, stratify=y)\n",
    "\n",
    "# Vectorizing the data\n",
    "hashing_vectorizer = HashingVectorizer()\n",
    "tfidf_vectorizer = TfidfVectorizer()\n",
    "\n",
    "# Transforming the data\n",
    "X_train_hash = hashing_vectorizer.fit_transform(X_train)\n",
    "X_test_hash = hashing_vectorizer.transform(X_test)\n",
    "X_train_tfidf = tfidf_vectorizer.fit_transform(X_train)\n",
    "X_test_tfidf = tfidf_vectorizer.transform(X_test)\n",
    "\n",
    "# Initializing classifiers\n",
    "perceptron = Perceptron()\n",
    "sgd_classifier = SGDClassifier()\n",
    "\n",
    "# Train and evaluate with HashingVectorizer\n",
    "perceptron.fit(X_train_hash, y_train)\n",
    "y_pred_hash_perceptron = perceptron.predict(X_test_hash)\n",
    "accuracy_hash_perceptron = accuracy_score(y_test, y_pred_hash_perceptron)\n",
    "\n",
    "# Train and evaluate with TfidfVectorizer\n",
    "perceptron.fit(X_train_tfidf, y_train)\n",
    "y_pred_tfidf_perceptron = perceptron.predict(X_test_tfidf)\n",
    "accuracy_tfidf_perceptron = accuracy_score(y_test, y_pred_tfidf_perceptron)\n",
    "\n",
    "# Train and evaluate SGDClassifier with HashingVectorizer\n",
    "sgd_classifier.fit(X_train_hash, y_train)\n",
    "y_pred_hash_sgd = sgd_classifier.predict(X_test_hash)\n",
    "accuracy_hash_sgd = accuracy_score(y_test, y_pred_hash_sgd)\n",
    "\n",
    "# Train and evaluate SGDClassifier with TfidfVectorizer\n",
    "sgd_classifier.fit(X_train_tfidf, y_train)\n",
    "y_pred_tfidf_sgd = sgd_classifier.predict(X_test_tfidf)\n",
    "accuracy_tfidf_sgd = accuracy_score(y_test, y_pred_tfidf_sgd)\n",
    "\n",
    "# Print results\n",
    "print(f'Accuracy of Perceptron with HashingVectorizer: {accuracy_hash_perceptron:.4f}')\n",
    "print(f'Accuracy of Perceptron with TfidfVectorizer: {accuracy_tfidf_perceptron:.4f}')\n",
    "print(f'Accuracy of SGDClassifier with HashingVectorizer: {accuracy_hash_sgd:.4f}')\n",
    "print(f'Accuracy of SGDClassifier with TfidfVectorizer: {accuracy_tfidf_sgd:.4f}')\n"
   ]
  },
  {
   "cell_type": "markdown",
   "metadata": {},
   "source": [
    "### <div class=\"alert alert-info\"></div>\n",
    "* Try to add cross-validation using the `RepeateKFold` function with 10 splits, 10 repeats, and 80493 as random state. \n",
    "* Report the result on training set with average and the standard deviation of the accuracy score\n",
    "* Compare to the accuracy score on test set, and explain whether the model is overfitting or underfitting the training data\n",
    "* You should report four sets of results"
   ]
  },
  {
   "cell_type": "code",
   "execution_count": 4,
   "metadata": {},
   "outputs": [
    {
     "name": "stdout",
     "output_type": "stream",
     "text": [
      "Perceptron with HashingVectorizer: CV Mean Accuracy = 0.8629, CV Std Dev = 0.0194, Test Accuracy = 0.8742\n",
      "Perceptron with TfidfVectorizer: CV Mean Accuracy = 0.8732, CV Std Dev = 0.0064, Test Accuracy = 0.8776\n",
      "SGDClassifier with HashingVectorizer: CV Mean Accuracy = 0.8620, CV Std Dev = 0.0066, Test Accuracy = 0.8663\n",
      "SGDClassifier with TfidfVectorizer: CV Mean Accuracy = 0.8930, CV Std Dev = 0.0046, Test Accuracy = 0.8988\n"
     ]
    }
   ],
   "source": [
    "# Your answer here\n",
    "\n",
    "from sklearn.model_selection import train_test_split, RepeatedKFold, cross_val_score\n",
    "import numpy as np\n",
    "\n",
    "\n",
    "# Defining cross-validation\n",
    "cv = RepeatedKFold(n_splits=10, n_repeats=10, random_state=80493)\n",
    "\n",
    "# Cross-validation and evaluation\n",
    "def evaluate_model(model, X_train, y_train, X_test, y_test):\n",
    "    # Cross-validation\n",
    "    cv_scores = cross_val_score(model, X_train, y_train, cv=cv, scoring='accuracy')\n",
    "    mean_cv_score = np.mean(cv_scores)\n",
    "    std_cv_score = np.std(cv_scores)\n",
    "\n",
    "    # Train and test accuracy\n",
    "    model.fit(X_train, y_train)\n",
    "    y_pred = model.predict(X_test)\n",
    "    test_accuracy = accuracy_score(y_test, y_pred)\n",
    "\n",
    "    return mean_cv_score, std_cv_score, test_accuracy\n",
    "\n",
    "# Evaluate with HashingVectorizer\n",
    "mean_cv_hash_perceptron, std_cv_hash_perceptron, accuracy_hash_perceptron = evaluate_model(perceptron, X_train_hash, y_train, X_test_hash, y_test)\n",
    "\n",
    "# Evaluate with TfidfVectorizer\n",
    "mean_cv_tfidf_perceptron, std_cv_tfidf_perceptron, accuracy_tfidf_perceptron = evaluate_model(perceptron, X_train_tfidf, y_train, X_test_tfidf, y_test)\n",
    "\n",
    "# Evaluate SGDClassifier with HashingVectorizer\n",
    "mean_cv_hash_sgd, std_cv_hash_sgd, accuracy_hash_sgd = evaluate_model(sgd_classifier, X_train_hash, y_train, X_test_hash, y_test)\n",
    "\n",
    "# Evaluate SGDClassifier with TfidfVectorizer\n",
    "mean_cv_tfidf_sgd, std_cv_tfidf_sgd, accuracy_tfidf_sgd = evaluate_model(sgd_classifier, X_train_tfidf, y_train, X_test_tfidf, y_test)\n",
    "\n",
    "# Print results\n",
    "print(f'Perceptron with HashingVectorizer: CV Mean Accuracy = {mean_cv_hash_perceptron:.4f}, CV Std Dev = {std_cv_hash_perceptron:.4f}, Test Accuracy = {accuracy_hash_perceptron:.4f}')\n",
    "print(f'Perceptron with TfidfVectorizer: CV Mean Accuracy = {mean_cv_tfidf_perceptron:.4f}, CV Std Dev = {std_cv_tfidf_perceptron:.4f}, Test Accuracy = {accuracy_tfidf_perceptron:.4f}')\n",
    "print(f'SGDClassifier with HashingVectorizer: CV Mean Accuracy = {mean_cv_hash_sgd:.4f}, CV Std Dev = {std_cv_hash_sgd:.4f}, Test Accuracy = {accuracy_hash_sgd:.4f}')\n",
    "print(f'SGDClassifier with TfidfVectorizer: CV Mean Accuracy = {mean_cv_tfidf_sgd:.4f}, CV Std Dev = {std_cv_tfidf_sgd:.4f}, Test Accuracy = {accuracy_tfidf_sgd:.4f}')\n"
   ]
  },
  {
   "cell_type": "code",
   "execution_count": null,
   "metadata": {},
   "outputs": [],
   "source": []
  }
 ],
 "metadata": {
  "kernelspec": {
   "display_name": "Python 3 (ipykernel)",
   "language": "python",
   "name": "python3"
  },
  "language_info": {
   "codemirror_mode": {
    "name": "ipython",
    "version": 3
   },
   "file_extension": ".py",
   "mimetype": "text/x-python",
   "name": "python",
   "nbconvert_exporter": "python",
   "pygments_lexer": "ipython3",
   "version": "3.11.7"
  }
 },
 "nbformat": 4,
 "nbformat_minor": 4
}
